{
 "cells": [
  {
   "cell_type": "markdown",
   "metadata": {},
   "source": [
    "# Examples from lectures\n",
    "## simple interpretator"
   ]
  },
  {
   "cell_type": "code",
   "execution_count": 1,
   "metadata": {},
   "outputs": [
    {
     "name": "stdout",
     "output_type": "stream",
     "text": [
      "env  : {}\n",
      "stack: []\n",
      "\n",
      "env  : {}\n",
      "stack: [30]\n",
      "\n",
      "env  : {'x': 30}\n",
      "stack: []\n",
      "\n",
      "env  : {'x': 30}\n",
      "stack: [62]\n",
      "\n",
      "env  : {'x': 30, 'y': 62}\n",
      "stack: []\n",
      "\n",
      "env  : {'x': 30, 'y': 62}\n",
      "stack: [30]\n",
      "\n",
      "env  : {'x': 30, 'y': 62}\n",
      "stack: [30, 62]\n",
      "\n",
      "env  : {'x': 30, 'y': 62}\n",
      "stack: [92]\n",
      "\n",
      "env  : {'x': 30, 'y': 62, 'z': 92}\n",
      "stack: []\n",
      "\n"
     ]
    }
   ],
   "source": [
    "def eval(code):\n",
    "    env = {}\n",
    "    stack = []\n",
    "    for line in code.strip().splitlines():\n",
    "        op, *args = line.split()\n",
    "        print(f\"env  : {env}\\nstack: {stack}\\n\")\n",
    "        if op == \"LOAD_CONST\":             \n",
    "            stack.append(int(args[0]))         \n",
    "        elif op == \"STORE_NAME\":             \n",
    "            env[args[0]] = stack.pop()         \n",
    "        elif op == \"LOAD_NAME\":             \n",
    "            stack.append(env[args[0]])         \n",
    "        elif op == \"BINARY_ADD\":             \n",
    "            stack.append(stack.pop() + stack.pop())         \n",
    "        else:             \n",
    "            assert False, f\"unknown op: {op[0]}\"     \n",
    "    print(f\"env  : {env}\\nstack: {stack}\\n\")\n",
    "    \n",
    "eval(\"\"\"  LOAD_CONST   30\n",
    "        STORE_NAME   x\n",
    "        LOAD_CONST   62\n",
    "        STORE_NAME   y\n",
    "        LOAD_NAME    x\n",
    "        LOAD_NAME    y\n",
    "        BINARY_ADD\n",
    "        STORE_NAME   z\n",
    "        \"\"\")"
   ]
  },
  {
   "cell_type": "markdown",
   "metadata": {},
   "source": [
    "## some syntax\n",
    "none is singletone:"
   ]
  },
  {
   "cell_type": "code",
   "execution_count": 2,
   "metadata": {},
   "outputs": [
    {
     "name": "stdout",
     "output_type": "stream",
     "text": [
      "address of res variable: 140729287068896\n",
      "address of another None: 140729287068896\n"
     ]
    }
   ],
   "source": [
    "res=None\n",
    "res==None #TRUE\n",
    "res is None  #TRUE \n",
    "print(\"address of res variable: \" + str(id(res))) # id is adress in CPython\n",
    "print(\"address of another None: \" + str(id(None)))"
   ]
  },
  {
   "cell_type": "markdown",
   "metadata": {},
   "source": [
    "lazyness of bool operators:"
   ]
  },
  {
   "cell_type": "code",
   "execution_count": 3,
   "metadata": {},
   "outputs": [
    {
     "name": "stdout",
     "output_type": "stream",
     "text": [
      "False\n",
      "second argument\n",
      "second argument\n",
      "True\n"
     ]
    }
   ],
   "source": [
    "print(False and \"secong argument\") #return first false statement\n",
    "print(True and \"second argument\") \n",
    "print(False or \"second argument\")\n",
    "print(True or \"second argument\") #return first true statement"
   ]
  },
  {
   "cell_type": "markdown",
   "metadata": {},
   "source": [
    "Assert helps to check some condition:"
   ]
  },
  {
   "cell_type": "code",
   "execution_count": 4,
   "metadata": {},
   "outputs": [
    {
     "ename": "AssertionError",
     "evalue": "(100, 3)",
     "output_type": "error",
     "traceback": [
      "\u001b[1;31m---------------------------------------------------------------------------\u001b[0m",
      "\u001b[1;31mAssertionError\u001b[0m                            Traceback (most recent call last)",
      "\u001b[1;32m<ipython-input-4-3dfe25175e3a>\u001b[0m in \u001b[0;36m<module>\u001b[1;34m\u001b[0m\n\u001b[0;32m      3\u001b[0m \u001b[0mx\u001b[0m\u001b[1;33m=\u001b[0m\u001b[1;36m100\u001b[0m\u001b[1;33m\u001b[0m\u001b[1;33m\u001b[0m\u001b[0m\n\u001b[0;32m      4\u001b[0m \u001b[0my\u001b[0m\u001b[1;33m=\u001b[0m\u001b[1;36m3\u001b[0m\u001b[1;33m\u001b[0m\u001b[1;33m\u001b[0m\u001b[0m\n\u001b[1;32m----> 5\u001b[1;33m \u001b[1;32massert\u001b[0m \u001b[0mx\u001b[0m\u001b[1;33m%\u001b[0m\u001b[0my\u001b[0m \u001b[1;33m==\u001b[0m\u001b[1;36m0\u001b[0m\u001b[1;33m,\u001b[0m \u001b[1;33m(\u001b[0m\u001b[0mx\u001b[0m\u001b[1;33m,\u001b[0m\u001b[0my\u001b[0m\u001b[1;33m)\u001b[0m\u001b[1;33m\u001b[0m\u001b[1;33m\u001b[0m\u001b[0m\n\u001b[0m",
      "\u001b[1;31mAssertionError\u001b[0m: (100, 3)"
     ]
    }
   ],
   "source": [
    "assert res is None, \"print should return None\" #return message if condition is false\n",
    "# it's possible to use it with other types\n",
    "x=100\n",
    "y=3\n",
    "assert x%y ==0, (x,y)"
   ]
  },
  {
   "cell_type": "markdown",
   "metadata": {},
   "source": [
    "some list operations"
   ]
  },
  {
   "cell_type": "code",
   "execution_count": 5,
   "metadata": {},
   "outputs": [
    {
     "name": "stdout",
     "output_type": "stream",
     "text": [
      "3\n",
      "[1, 2, 3]\n",
      "[0, 2, 3]\n",
      "[1, 2, 1, 2, 1, 2]\n",
      "[[100, 0, 0], [100, 0, 0], [100, 0, 0]]\n",
      "[1, 2, 3, 4]\n",
      "[5, 1, 2, 3, 4]\n",
      "4\n",
      "5\n",
      "[1, 2, 3, 100]\n",
      "secong from end: 3\n",
      "from 1-st to 3-rd: [2, 3]\n",
      "from the 1-st to the end: [2, 3, 100]\n",
      "from the start to the second from end: [1, 2]\n",
      "from 0 with step 2: [1, 3]\n",
      "[123, 2, 3, 100]\n",
      "[1, 2, 3, 100]\n",
      "[1, None, 3, None]\n",
      "[1, 3]\n"
     ]
    }
   ],
   "source": [
    "xs=[1,2,3]\n",
    "print(len(xs))\n",
    "print(xs)\n",
    "xs[0]=0\n",
    "print(xs)\n",
    "xs= [1,2]*3 #copy list 3 times\n",
    "print(xs)\n",
    "xs=[[0]*3]*3 # bad code\n",
    "xs[0][0]=100 #want to modify only 1 cell\n",
    "print(xs) # =(\n",
    "print([1]+[2,3]+[4]) # O(n)   !!!\n",
    "xs=[1,2,3]\n",
    "xs.append(4) # ~ O(1)\n",
    "xs.insert(0,5) # o(n) !!!\n",
    "print(xs)\n",
    "print(xs.pop()) # O(1)\n",
    "print(xs.pop(0)) # O(n) !!!\n",
    "\n",
    "xs.append(100)\n",
    "print(xs)\n",
    "print(\"secong from end: \"+ str(xs[-2]))\n",
    "print(\"from 1-st to 3-rd: \" + str(xs[1:3])) # x[3] is not included\n",
    "print(\"from the 1-st to the end: \" + str(xs[1:]))\n",
    "print(\"from the start to the second from end: \" + str(xs[:-2])) #xs[-2] is not included\n",
    "print(\"from 0 with step 2: \" + str(xs[::2]))\n",
    "y=xs[:] # every time we make a copy! \n",
    "y[0]=123\n",
    "print(y) # another object\n",
    "print(xs)\n",
    "xs[1::2]=[None]*2 # slices can be assigned\n",
    "print(xs)\n",
    "every_second =slice(None,None,2)\n",
    "print(xs[every_second])"
   ]
  },
  {
   "cell_type": "markdown",
   "metadata": {},
   "source": [
    "Sets have similar API. But there ara some differences which are obvious, when you remember that set are hash set.\n",
    "Elements of set must be hashable, so we can't have set of mutable objects(for ex. lists)."
   ]
  },
  {
   "cell_type": "code",
   "execution_count": 6,
   "metadata": {},
   "outputs": [
    {
     "name": "stdout",
     "output_type": "stream",
     "text": [
      "True\n",
      "True\n",
      "False\n",
      "{1, 2, 3}\n",
      "{1, 2, 3, 92}\n",
      "set()\n",
      "{1, 2, 3, 4, 5}\n",
      "{3}\n",
      "{1, 2, 4, 5}\n",
      "{1, 3, 92}\n"
     ]
    }
   ],
   "source": [
    "xs={1,2,3}\n",
    "print(1 in xs)# O(1)\n",
    "print (1 in [1,2,3]) # O(n) in case of lists\n",
    "print(100 in xs)\n",
    "print(xs)\n",
    "xs.add(1)\n",
    "xs.add(92)\n",
    "print(xs)\n",
    "print(set()) # empty set. we can't use {}\n",
    "\n",
    "print({1,2,3}.union({3,4,5})) # it's possible use |\n",
    "print ({1,2,3} & {3,4,5}) # or .intersection()\n",
    "print({1,2,3}^{3,4,5}) # or .symmetric_difference()\n",
    "xs.discard(2) # how to remove element by value\n",
    "xs.discard(1000) # in contrast to .remove() it will not rase an exception\n",
    "print(xs) "
   ]
  },
  {
   "cell_type": "markdown",
   "metadata": {},
   "source": [
    "Dictionaries store mapping of hashable keys to values. In last python version item order is guaranteed.(in order of addition)"
   ]
  },
  {
   "cell_type": "code",
   "execution_count": 7,
   "metadata": {},
   "outputs": [
    {
     "name": "stdout",
     "output_type": "stream",
     "text": [
      "2\n",
      "2018\n",
      "not mentioned\n",
      "{'year': 2018, 'month': 'September', 'day': 14}\n",
      "2018\n",
      "{'month': 'September', 'day': 14}\n",
      "dict_keys(['month', 'day'])\n",
      "dict_values(['September', 14])\n",
      "dict_items([('month', 'September'), ('day', 14)])\n"
     ]
    }
   ],
   "source": [
    "date={\"year\":2018, \"month\": \"September\"}\n",
    "print(len(date))\n",
    "print(date[\"year\"]) # ketError if has not such key\n",
    "print(date.get(\"day\",\"not mentioned\")) #return value from dictionary or default value\n",
    "date[\"day\"]=14 # dictionaries are mutable\n",
    "print(date)\n",
    "print(date.pop(\"year\")) # read and remove\n",
    "print(date)\n",
    "print(date.keys()) # set(!!!) of keys\n",
    "print(date.values()) #collection of values (not a set)\n",
    "print(date.items()) # set of pairs. We can use set operations only if all values are hashable"
   ]
  },
  {
   "cell_type": "markdown",
   "metadata": {},
   "source": [
    "## Examples with functions\n"
   ]
  },
  {
   "cell_type": "code",
   "execution_count": 1,
   "metadata": {},
   "outputs": [
    {
     "name": "stdout",
     "output_type": "stream",
     "text": [
      "  1           0 LOAD_CONST               0 (<code object foo at 0x0000022A1009E030, file \"some_file.py\", line 1>)\n",
      "              2 LOAD_CONST               1 ('foo')\n",
      "              4 MAKE_FUNCTION            0\n",
      "              6 STORE_NAME               0 (foo)\n",
      "\n",
      "  4           8 LOAD_NAME                0 (foo)\n",
      "             10 CALL_FUNCTION            0\n",
      "             12 POP_TOP\n",
      "             14 LOAD_CONST               2 (None)\n",
      "             16 RETURN_VALUE\n",
      "\n",
      "Disassembly of <code object foo at 0x0000022A1009E030, file \"some_file.py\", line 1>:\n",
      "  3           0 LOAD_CONST               1 (92)\n",
      "              2 RETURN_VALUE\n"
     ]
    }
   ],
   "source": [
    "!python -m dis some_file.py"
   ]
  },
  {
   "cell_type": "code",
   "execution_count": 33,
   "metadata": {},
   "outputs": [
    {
     "name": "stdout",
     "output_type": "stream",
     "text": [
      "10\n",
      "1\n",
      "=================\n",
      "1\n"
     ]
    }
   ],
   "source": [
    "def min(first, *rest): #at least 1 argument\n",
    "    res=first\n",
    "    for x in rest:\n",
    "        res=x if x<res else res\n",
    "    return res\n",
    "print(min(92,10,62))\n",
    "xs=[1,2,3]\n",
    "print(min(*xs))\n",
    "print(\"=================\")\n",
    "def min_def(*args, default=None): #min with default value\n",
    "    if not args: \n",
    "        return default #when we didn't propose any arguments\n",
    "    res,*rest=args #first argument to res\n",
    "    for x in rest:\n",
    "        res=x if x<res else res\n",
    "    return res\n",
    "print(min_def(*xs,default=0)) #we must use a name for default"
   ]
  },
  {
   "cell_type": "markdown",
   "metadata": {},
   "source": [
    "arguments after * require names in call"
   ]
  },
  {
   "cell_type": "code",
   "execution_count": 10,
   "metadata": {},
   "outputs": [
    {
     "name": "stdout",
     "output_type": "stream",
     "text": [
      "[1, 3]\n"
     ]
    }
   ],
   "source": [
    "def unique(xs, *,seen=None): #return uniaue items,which was not seen yet\n",
    "    seen=seen or set() # return first true item\n",
    "    res=[]\n",
    "    for x in xs:\n",
    "        if x in seen:\n",
    "            continue\n",
    "        seen.add(x)\n",
    "        res.append(x)\n",
    "    return res\n",
    "print(unique({1,2,3},seen={2}))"
   ]
  },
  {
   "cell_type": "code",
   "execution_count": 16,
   "metadata": {},
   "outputs": [
    {
     "name": "stdout",
     "output_type": "stream",
     "text": [
      "(({'a': 92},), {})\n",
      "((), {'a': 92})\n"
     ]
    }
   ],
   "source": [
    "def call_me(*args,**kwargs): #tuple for simple arguments and dictionary for keyword arguments\n",
    "    return (args,kwargs)\n",
    "print(call_me({\"a\":92}))\n",
    "print(call_me(**{\"a\":92})) #unpack dict"
   ]
  },
  {
   "cell_type": "markdown",
   "metadata": {},
   "source": [
    "operator * and ** serves for unpacking lists and dictionaries"
   ]
  },
  {
   "cell_type": "code",
   "execution_count": 6,
   "metadata": {},
   "outputs": [
    {
     "name": "stdout",
     "output_type": "stream",
     "text": [
      "(1, [2, 3])\n",
      "('1', ['2', '3', '4'], '5')\n",
      "1 2 3\n",
      "{'x': 1, 'y': 2, 'z': 3}\n",
      "(0, 1, 2, 3, 4)\n",
      "[0, 1, 2, 3, 4, 4]\n",
      "{0, 1, 2, 3, 4}\n",
      "{'x': 1, 'y': 2}\n"
     ]
    }
   ],
   "source": [
    "x,*xs=[1,2,3] #head and tail\n",
    "print((x,xs))\n",
    "first,*rest, last=\"12345\"\n",
    "print((first,rest,last))\n",
    "print(*[1],*[2],3) #multiple unpacking allowed\n",
    "print(dict(**{'x':1},y=2,**{'z':3}))\n",
    "# * unpack list to suitable collection\n",
    "print((*range(4),4)) #tuple\n",
    "print([*range(5),4]) #list\n",
    "print({*range(5),4}) #set\n",
    "print({'x':1,**{'y':2}}) #dict"
   ]
  },
  {
   "cell_type": "code",
   "execution_count": 33,
   "metadata": {},
   "outputs": [
    {
     "name": "stdout",
     "output_type": "stream",
     "text": [
      "{'name': 'price', 'spam': '9'}\n"
     ]
    }
   ],
   "source": [
    "d={}\n",
    "f=open(\"index.csv\")\n",
    "for line in f:\n",
    "    name,price,_=line.split(',') # way to check format of line\n",
    "    d[name]=price\n",
    "print(d)"
   ]
  },
  {
   "cell_type": "code",
   "execution_count": 12,
   "metadata": {},
   "outputs": [
    {
     "name": "stdout",
     "output_type": "stream",
     "text": [
      "inside\n"
     ]
    }
   ],
   "source": [
    "def foo():\n",
    "    x=92\n",
    "    def bar():\n",
    "        return x\n",
    "    return bar\n",
    "bar=foo()\n",
    "assert bar()==92"
   ]
  },
  {
   "cell_type": "markdown",
   "metadata": {},
   "source": [
    "There are some features with local variables. Python knows them before you sssign them"
   ]
  },
  {
   "cell_type": "code",
   "execution_count": 16,
   "metadata": {},
   "outputs": [
    {
     "ename": "UnboundLocalError",
     "evalue": "local variable 'x' referenced before assignment",
     "output_type": "error",
     "traceback": [
      "\u001b[1;31m---------------------------------------------------------------------------\u001b[0m",
      "\u001b[1;31mUnboundLocalError\u001b[0m                         Traceback (most recent call last)",
      "\u001b[1;32m<ipython-input-16-0780fcb79f0e>\u001b[0m in \u001b[0;36m<module>\u001b[1;34m\u001b[0m\n\u001b[0;32m      3\u001b[0m     \u001b[0mprint\u001b[0m\u001b[1;33m(\u001b[0m\u001b[0mx\u001b[0m\u001b[1;33m)\u001b[0m \u001b[1;31m#this is local x from next string.\u001b[0m\u001b[1;33m\u001b[0m\u001b[1;33m\u001b[0m\u001b[0m\n\u001b[0;32m      4\u001b[0m     \u001b[0mx\u001b[0m\u001b[1;33m=\u001b[0m\u001b[1;36m2\u001b[0m\u001b[1;33m\u001b[0m\u001b[1;33m\u001b[0m\u001b[0m\n\u001b[1;32m----> 5\u001b[1;33m \u001b[0mprint\u001b[0m\u001b[1;33m(\u001b[0m\u001b[0mfoo\u001b[0m\u001b[1;33m(\u001b[0m\u001b[1;33m)\u001b[0m\u001b[1;33m)\u001b[0m\u001b[1;33m\u001b[0m\u001b[1;33m\u001b[0m\u001b[0m\n\u001b[0m",
      "\u001b[1;32m<ipython-input-16-0780fcb79f0e>\u001b[0m in \u001b[0;36mfoo\u001b[1;34m()\u001b[0m\n\u001b[0;32m      1\u001b[0m \u001b[0mx\u001b[0m\u001b[1;33m=\u001b[0m\u001b[1;36m1\u001b[0m\u001b[1;33m\u001b[0m\u001b[1;33m\u001b[0m\u001b[0m\n\u001b[0;32m      2\u001b[0m \u001b[1;32mdef\u001b[0m \u001b[0mfoo\u001b[0m\u001b[1;33m(\u001b[0m\u001b[1;33m)\u001b[0m\u001b[1;33m:\u001b[0m\u001b[1;33m\u001b[0m\u001b[1;33m\u001b[0m\u001b[0m\n\u001b[1;32m----> 3\u001b[1;33m     \u001b[0mprint\u001b[0m\u001b[1;33m(\u001b[0m\u001b[0mx\u001b[0m\u001b[1;33m)\u001b[0m \u001b[1;31m#this is local x from next string.\u001b[0m\u001b[1;33m\u001b[0m\u001b[1;33m\u001b[0m\u001b[0m\n\u001b[0m\u001b[0;32m      4\u001b[0m     \u001b[0mx\u001b[0m\u001b[1;33m=\u001b[0m\u001b[1;36m2\u001b[0m\u001b[1;33m\u001b[0m\u001b[1;33m\u001b[0m\u001b[0m\n\u001b[0;32m      5\u001b[0m \u001b[0mprint\u001b[0m\u001b[1;33m(\u001b[0m\u001b[0mfoo\u001b[0m\u001b[1;33m(\u001b[0m\u001b[1;33m)\u001b[0m\u001b[1;33m)\u001b[0m\u001b[1;33m\u001b[0m\u001b[1;33m\u001b[0m\u001b[0m\n",
      "\u001b[1;31mUnboundLocalError\u001b[0m: local variable 'x' referenced before assignment"
     ]
    }
   ],
   "source": [
    "x=1\n",
    "def foo():\n",
    "    print(x) #this is local x from next string.\n",
    "    x=2\n",
    "print(foo())"
   ]
  },
  {
   "cell_type": "markdown",
   "metadata": {},
   "source": [
    "When you assign variable in function's body Python treats is as local variable. To avoid this we can use global and nonlocal specification"
   ]
  },
  {
   "cell_type": "code",
   "execution_count": 22,
   "metadata": {},
   "outputs": [
    {
     "name": "stdout",
     "output_type": "stream",
     "text": [
      "14\n",
      "2\n"
     ]
    }
   ],
   "source": [
    "x=1\n",
    "def foo():\n",
    "    global x\n",
    "    x=2\n",
    "    y=1\n",
    "    def bar():\n",
    "        nonlocal y #y from parent's scope\n",
    "        y=14\n",
    "    bar()\n",
    "    print(y)\n",
    "foo()\n",
    "print(x)"
   ]
  },
  {
   "cell_type": "markdown",
   "metadata": {},
   "source": [
    "In function's closure python stores cell:"
   ]
  },
  {
   "cell_type": "code",
   "execution_count": 24,
   "metadata": {},
   "outputs": [
    {
     "name": "stdout",
     "output_type": "stream",
     "text": [
      "2 2 2 "
     ]
    }
   ],
   "source": [
    "def foo():\n",
    "    res=[]\n",
    "    for i in range(3): #at the last step we assigned cell as 2\n",
    "        def bar():\n",
    "            return i #this is a cell in  memmory(the same every time)\n",
    "        res.append(bar)\n",
    "    return res\n",
    "for f in foo():\n",
    "    print(f(),end=\" \")"
   ]
  },
  {
   "cell_type": "markdown",
   "metadata": {},
   "source": [
    "It allows to make mutualrecursive functions"
   ]
  },
  {
   "cell_type": "code",
   "execution_count": 26,
   "metadata": {},
   "outputs": [
    {
     "name": "stdout",
     "output_type": "stream",
     "text": [
      "True\n"
     ]
    }
   ],
   "source": [
    "def foo():\n",
    "    def is_even(n):\n",
    "        return n==0 if n<=1 else is_odd(n-1)\n",
    "    def is_odd(n):\n",
    "        return n==1 if n<=1 else is_even(n-1)\n",
    "    print(is_even(92))\n",
    "foo()"
   ]
  },
  {
   "cell_type": "markdown",
   "metadata": {},
   "source": [
    "functioonal possibilities:"
   ]
  },
  {
   "cell_type": "code",
   "execution_count": 37,
   "metadata": {},
   "outputs": [
    {
     "name": "stdout",
     "output_type": "stream",
     "text": [
      "[1, 2, 3]\n",
      "[3, 5, 7]\n",
      "[0, 2, 4, 6, 8]\n",
      "[1, True, {None}]\n",
      "[('h', 0, 11), ('e', 1, 22), ('l', 2, 33), ('l', 3, 44), ('o', 4, 55)]\n"
     ]
    }
   ],
   "source": [
    "print(list(map(lambda x:x+1,[0,1,2]))) # map doesn't produce collection. It's iteratable object\n",
    "print(list(map(lambda x,y:x+y,[0,1,2],[3,4,5]))) # in Python you can use map with two lists. In such case lambda with two arguments is required\n",
    "                                                 # if list are not equal in length the result will cut to minimum of length\n",
    "print(list(filter(lambda x:x%2==0,range(10))))\n",
    "print(list(filter(None,[0,1,True,False,[],{None}]))) #you can use None instead of function. In this case it returns all not false objects \n",
    "print(list(zip(\"hello\",range(10),[11,22,33,44,55]))) #make list of tuples from several lists. result length = min lenghth"
   ]
  },
  {
   "cell_type": "markdown",
   "metadata": {},
   "source": [
    "Instead of lambda you can use list expressions. they are much shorter. But they are not lazy(!)"
   ]
  },
  {
   "cell_type": "code",
   "execution_count": 38,
   "metadata": {},
   "outputs": [
    {
     "name": "stdout",
     "output_type": "stream",
     "text": [
      "[0, 4, 16, 36, 64]\n"
     ]
    }
   ],
   "source": [
    "print([x**2 for x in range(10) if x%2==0])"
   ]
  },
  {
   "cell_type": "code",
   "execution_count": 39,
   "metadata": {},
   "outputs": [
    {
     "name": "stdout",
     "output_type": "stream",
     "text": [
      "[(2, 1), (4, 1), (4, 3)]\n"
     ]
    }
   ],
   "source": [
    "l = [(x,y)\n",
    "    for x in range(5)\n",
    "    if x%2 ==0\n",
    "    for y in range(x)\n",
    "    if y%2==1]  #these expressions are more powerfull\n",
    "print(l)"
   ]
  },
  {
   "cell_type": "code",
   "execution_count": 41,
   "metadata": {},
   "outputs": [
    {
     "name": "stdout",
     "output_type": "stream",
     "text": [
      "<generator object <genexpr> at 0x000002334BAE3A20>\n"
     ]
    }
   ],
   "source": [
    "print(x**2 for x in range(5)) #it's lazy way for list expressions"
   ]
  },
  {
   "cell_type": "code",
   "execution_count": null,
   "metadata": {},
   "outputs": [],
   "source": []
  }
 ],
 "metadata": {
  "kernelspec": {
   "display_name": "Python 3",
   "language": "python",
   "name": "python3"
  },
  "language_info": {
   "codemirror_mode": {
    "name": "ipython",
    "version": 3
   },
   "file_extension": ".py",
   "mimetype": "text/x-python",
   "name": "python",
   "nbconvert_exporter": "python",
   "pygments_lexer": "ipython3",
   "version": "3.7.1"
  }
 },
 "nbformat": 4,
 "nbformat_minor": 2
}
