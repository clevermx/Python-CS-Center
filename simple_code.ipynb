{
 "cells": [
  {
   "cell_type": "markdown",
   "metadata": {},
   "source": [
    "# Examples from lectures\n",
    "## simple interpretator"
   ]
  },
  {
   "cell_type": "code",
   "execution_count": 1,
   "metadata": {},
   "outputs": [
    {
     "name": "stdout",
     "output_type": "stream",
     "text": [
      "env  : {}\n",
      "stack: []\n",
      "\n",
      "env  : {}\n",
      "stack: [30]\n",
      "\n",
      "env  : {'x': 30}\n",
      "stack: []\n",
      "\n",
      "env  : {'x': 30}\n",
      "stack: [62]\n",
      "\n",
      "env  : {'x': 30, 'y': 62}\n",
      "stack: []\n",
      "\n",
      "env  : {'x': 30, 'y': 62}\n",
      "stack: [30]\n",
      "\n",
      "env  : {'x': 30, 'y': 62}\n",
      "stack: [30, 62]\n",
      "\n",
      "env  : {'x': 30, 'y': 62}\n",
      "stack: [92]\n",
      "\n",
      "env  : {'x': 30, 'y': 62, 'z': 92}\n",
      "stack: []\n",
      "\n"
     ]
    }
   ],
   "source": [
    "def eval(code):\n",
    "    env = {}\n",
    "    stack = []\n",
    "    for line in code.strip().splitlines():\n",
    "        op, *args = line.split()\n",
    "        print(f\"env  : {env}\\nstack: {stack}\\n\")\n",
    "        if op == \"LOAD_CONST\":             \n",
    "            stack.append(int(args[0]))         \n",
    "        elif op == \"STORE_NAME\":             \n",
    "            env[args[0]] = stack.pop()         \n",
    "        elif op == \"LOAD_NAME\":             \n",
    "            stack.append(env[args[0]])         \n",
    "        elif op == \"BINARY_ADD\":             \n",
    "            stack.append(stack.pop() + stack.pop())         \n",
    "        else:             \n",
    "            assert False, f\"unknown op: {op[0]}\"     \n",
    "    print(f\"env  : {env}\\nstack: {stack}\\n\")\n",
    "    \n",
    "eval(\"\"\"  LOAD_CONST   30\n",
    "        STORE_NAME   x\n",
    "        LOAD_CONST   62\n",
    "        STORE_NAME   y\n",
    "        LOAD_NAME    x\n",
    "        LOAD_NAME    y\n",
    "        BINARY_ADD\n",
    "        STORE_NAME   z\n",
    "        \"\"\")"
   ]
  },
  {
   "cell_type": "markdown",
   "metadata": {},
   "source": [
    "## some syntax\n",
    "none is singletone:"
   ]
  },
  {
   "cell_type": "code",
   "execution_count": 2,
   "metadata": {},
   "outputs": [
    {
     "name": "stdout",
     "output_type": "stream",
     "text": [
      "address of res variable: 140729287068896\n",
      "address of another None: 140729287068896\n"
     ]
    }
   ],
   "source": [
    "res=None\n",
    "res==None #TRUE\n",
    "res is None  #TRUE \n",
    "print(\"address of res variable: \" + str(id(res))) # id is adress in CPython\n",
    "print(\"address of another None: \" + str(id(None)))"
   ]
  },
  {
   "cell_type": "markdown",
   "metadata": {},
   "source": [
    "lazyness of bool operators:"
   ]
  },
  {
   "cell_type": "code",
   "execution_count": 3,
   "metadata": {},
   "outputs": [
    {
     "name": "stdout",
     "output_type": "stream",
     "text": [
      "False\n",
      "second argument\n",
      "second argument\n",
      "True\n"
     ]
    }
   ],
   "source": [
    "print(False and \"secong argument\") #return first false statement\n",
    "print(True and \"second argument\") \n",
    "print(False or \"second argument\")\n",
    "print(True or \"second argument\") #return first true statement"
   ]
  },
  {
   "cell_type": "markdown",
   "metadata": {},
   "source": [
    "Assert helps to check some condition:"
   ]
  },
  {
   "cell_type": "code",
   "execution_count": 4,
   "metadata": {},
   "outputs": [
    {
     "ename": "AssertionError",
     "evalue": "(100, 3)",
     "output_type": "error",
     "traceback": [
      "\u001b[1;31m---------------------------------------------------------------------------\u001b[0m",
      "\u001b[1;31mAssertionError\u001b[0m                            Traceback (most recent call last)",
      "\u001b[1;32m<ipython-input-4-3dfe25175e3a>\u001b[0m in \u001b[0;36m<module>\u001b[1;34m\u001b[0m\n\u001b[0;32m      3\u001b[0m \u001b[0mx\u001b[0m\u001b[1;33m=\u001b[0m\u001b[1;36m100\u001b[0m\u001b[1;33m\u001b[0m\u001b[1;33m\u001b[0m\u001b[0m\n\u001b[0;32m      4\u001b[0m \u001b[0my\u001b[0m\u001b[1;33m=\u001b[0m\u001b[1;36m3\u001b[0m\u001b[1;33m\u001b[0m\u001b[1;33m\u001b[0m\u001b[0m\n\u001b[1;32m----> 5\u001b[1;33m \u001b[1;32massert\u001b[0m \u001b[0mx\u001b[0m\u001b[1;33m%\u001b[0m\u001b[0my\u001b[0m \u001b[1;33m==\u001b[0m\u001b[1;36m0\u001b[0m\u001b[1;33m,\u001b[0m \u001b[1;33m(\u001b[0m\u001b[0mx\u001b[0m\u001b[1;33m,\u001b[0m\u001b[0my\u001b[0m\u001b[1;33m)\u001b[0m\u001b[1;33m\u001b[0m\u001b[1;33m\u001b[0m\u001b[0m\n\u001b[0m",
      "\u001b[1;31mAssertionError\u001b[0m: (100, 3)"
     ]
    }
   ],
   "source": [
    "assert res is None, \"print should return None\" #return message if condition is false\n",
    "# it's possible to use it with other types\n",
    "x=100\n",
    "y=3\n",
    "assert x%y ==0, (x,y)"
   ]
  },
  {
   "cell_type": "markdown",
   "metadata": {},
   "source": [
    "some list operations"
   ]
  },
  {
   "cell_type": "code",
   "execution_count": 5,
   "metadata": {},
   "outputs": [
    {
     "name": "stdout",
     "output_type": "stream",
     "text": [
      "3\n",
      "[1, 2, 3]\n",
      "[0, 2, 3]\n",
      "[1, 2, 1, 2, 1, 2]\n",
      "[[100, 0, 0], [100, 0, 0], [100, 0, 0]]\n",
      "[1, 2, 3, 4]\n",
      "[5, 1, 2, 3, 4]\n",
      "4\n",
      "5\n",
      "[1, 2, 3, 100]\n",
      "secong from end: 3\n",
      "from 1-st to 3-rd: [2, 3]\n",
      "from the 1-st to the end: [2, 3, 100]\n",
      "from the start to the second from end: [1, 2]\n",
      "from 0 with step 2: [1, 3]\n",
      "[123, 2, 3, 100]\n",
      "[1, 2, 3, 100]\n",
      "[1, None, 3, None]\n",
      "[1, 3]\n"
     ]
    }
   ],
   "source": [
    "xs=[1,2,3]\n",
    "print(len(xs))\n",
    "print(xs)\n",
    "xs[0]=0\n",
    "print(xs)\n",
    "xs= [1,2]*3 #copy list 3 times\n",
    "print(xs)\n",
    "xs=[[0]*3]*3 # bad code\n",
    "xs[0][0]=100 #want to modify only 1 cell\n",
    "print(xs) # =(\n",
    "print([1]+[2,3]+[4]) # O(n)   !!!\n",
    "xs=[1,2,3]\n",
    "xs.append(4) # ~ O(1)\n",
    "xs.insert(0,5) # o(n) !!!\n",
    "print(xs)\n",
    "print(xs.pop()) # O(1)\n",
    "print(xs.pop(0)) # O(n) !!!\n",
    "\n",
    "xs.append(100)\n",
    "print(xs)\n",
    "print(\"secong from end: \"+ str(xs[-2]))\n",
    "print(\"from 1-st to 3-rd: \" + str(xs[1:3])) # x[3] is not included\n",
    "print(\"from the 1-st to the end: \" + str(xs[1:]))\n",
    "print(\"from the start to the second from end: \" + str(xs[:-2])) #xs[-2] is not included\n",
    "print(\"from 0 with step 2: \" + str(xs[::2]))\n",
    "y=xs[:] # every time we make a copy! \n",
    "y[0]=123\n",
    "print(y) # another object\n",
    "print(xs)\n",
    "xs[1::2]=[None]*2 # slices can be assigned\n",
    "print(xs)\n",
    "every_second =slice(None,None,2)\n",
    "print(xs[every_second])"
   ]
  },
  {
   "cell_type": "markdown",
   "metadata": {},
   "source": [
    "Sets have similar API. But there ara some differences which are obvious, when you remember that set are hash set.\n",
    "Elements of set must be hashable, so we can't have set of mutable objects(for ex. lists)."
   ]
  },
  {
   "cell_type": "code",
   "execution_count": 6,
   "metadata": {},
   "outputs": [
    {
     "name": "stdout",
     "output_type": "stream",
     "text": [
      "True\n",
      "True\n",
      "False\n",
      "{1, 2, 3}\n",
      "{1, 2, 3, 92}\n",
      "set()\n",
      "{1, 2, 3, 4, 5}\n",
      "{3}\n",
      "{1, 2, 4, 5}\n",
      "{1, 3, 92}\n"
     ]
    }
   ],
   "source": [
    "xs={1,2,3}\n",
    "print(1 in xs)# O(1)\n",
    "print (1 in [1,2,3]) # O(n) in case of lists\n",
    "print(100 in xs)\n",
    "print(xs)\n",
    "xs.add(1)\n",
    "xs.add(92)\n",
    "print(xs)\n",
    "print(set()) # empty set. we can't use {}\n",
    "\n",
    "print({1,2,3}.union({3,4,5})) # it's possible use |\n",
    "print ({1,2,3} & {3,4,5}) # or .intersection()\n",
    "print({1,2,3}^{3,4,5}) # or .symmetric_difference()\n",
    "xs.discard(2) # how to remove element by value\n",
    "xs.discard(1000) # in contrast to .remove() it will not rase an exception\n",
    "print(xs) "
   ]
  },
  {
   "cell_type": "markdown",
   "metadata": {},
   "source": [
    "Dictionaries store mapping of hashable keys to values. In last python version item order is guaranteed.(in order of addition)"
   ]
  },
  {
   "cell_type": "code",
   "execution_count": 7,
   "metadata": {},
   "outputs": [
    {
     "name": "stdout",
     "output_type": "stream",
     "text": [
      "2\n",
      "2018\n",
      "not mentioned\n",
      "{'year': 2018, 'month': 'September', 'day': 14}\n",
      "2018\n",
      "{'month': 'September', 'day': 14}\n",
      "dict_keys(['month', 'day'])\n",
      "dict_values(['September', 14])\n",
      "dict_items([('month', 'September'), ('day', 14)])\n"
     ]
    }
   ],
   "source": [
    "date={\"year\":2018, \"month\": \"September\"}\n",
    "print(len(date))\n",
    "print(date[\"year\"]) # ketError if has not such key\n",
    "print(date.get(\"day\",\"not mentioned\")) #return value from dictionary or default value\n",
    "date[\"day\"]=14 # dictionaries are mutable\n",
    "print(date)\n",
    "print(date.pop(\"year\")) # read and remove\n",
    "print(date)\n",
    "print(date.keys()) # set(!!!) of keys\n",
    "print(date.values()) #collection of values (not a set)\n",
    "print(date.items()) # set of pairs. We can use set operations only if all values are hashable"
   ]
  },
  {
   "cell_type": "code",
   "execution_count": null,
   "metadata": {},
   "outputs": [],
   "source": []
  },
  {
   "cell_type": "code",
   "execution_count": null,
   "metadata": {},
   "outputs": [],
   "source": []
  }
 ],
 "metadata": {
  "kernelspec": {
   "display_name": "Python 3",
   "language": "python",
   "name": "python3"
  },
  "language_info": {
   "codemirror_mode": {
    "name": "ipython",
    "version": 3
   },
   "file_extension": ".py",
   "mimetype": "text/x-python",
   "name": "python",
   "nbconvert_exporter": "python",
   "pygments_lexer": "ipython3",
   "version": "3.7.1"
  }
 },
 "nbformat": 4,
 "nbformat_minor": 2
}
