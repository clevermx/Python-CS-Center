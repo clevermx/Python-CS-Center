{
 "cells": [
  {
   "cell_type": "markdown",
   "metadata": {},
   "source": [
    "Sometimes we need to print something< for exmple arguments for debugging"
   ]
  },
  {
   "cell_type": "code",
   "execution_count": 18,
   "metadata": {},
   "outputs": [
    {
     "name": "stdout",
     "output_type": "stream",
     "text": [
      "max(-10, -1, -3)=...\n",
      "max(-10, -1, -3)=0\n",
      "max\n"
     ]
    }
   ],
   "source": [
    "def max(*args):\n",
    "    \"\"\"finds the largest argument.\"\"\"\n",
    "    print(f\"max{args}=...\")\n",
    "    ret=0\n",
    "    for x in args:\n",
    "        ret=ret if x<ret else x\n",
    "    print(f\"max{args}={ret}\")\n",
    "    return ret\n",
    "def foo():\n",
    "    max(-10,-1,-3)\n",
    "foo()\n"
   ]
  },
  {
   "cell_type": "markdown",
   "metadata": {},
   "source": [
    "we can define high level function, that implements the same mechanism for each function"
   ]
  },
  {
   "cell_type": "code",
   "execution_count": 19,
   "metadata": {},
   "outputs": [
    {
     "name": "stdout",
     "output_type": "stream",
     "text": [
      "max(-10,-1,-3)=...\n",
      "max(-10,-1,-3)=0\n",
      "inner\n"
     ]
    }
   ],
   "source": [
    "def trace(f):\n",
    "    def inner(*args, **kwargs):\n",
    "        call =\",\".join(\n",
    "        [str(a) for a in args]+[f\"{k}={v}\" for k,v in kwargs]\n",
    "        )\n",
    "        print(f\"{f.__name__}({call})=...\")\n",
    "        ret = f(*args,**kwargs)\n",
    "        print(f\"{f.__name__}({call})={ret}\")\n",
    "        return ret\n",
    "    return inner\n",
    "\n",
    "def max(*args):\n",
    "    \"\"\"finds the largest argument.\"\"\"\n",
    "    ret=0\n",
    "    for x in args:\n",
    "        ret=ret if x<ret else x\n",
    "    return ret\n",
    "\n",
    "max=trace(max)\n",
    "def foo():\n",
    "    max(-10,-1,-3)\n",
    "foo()\n",
    "print(max.__name__)"
   ]
  },
  {
   "cell_type": "markdown",
   "metadata": {},
   "source": [
    "It's possible not to overwrite function implicitly. We can just use decorator @trace. But we still need to implement trace function!\n",
    "Also it's a good idea to add DEBUG flag, which allow us to choose behavior"
   ]
  },
  {
   "cell_type": "code",
   "execution_count": 20,
   "metadata": {},
   "outputs": [
    {
     "name": "stdout",
     "output_type": "stream",
     "text": [
      "max(-10,-1,-3)=...\n",
      "max(-10,-1,-3)=0\n",
      "max\n"
     ]
    }
   ],
   "source": [
    "DEBUG = True\n",
    "\n",
    "def trace(f):\n",
    "    if not DEBUG:\n",
    "        return f\n",
    "    def inner(*args, **kwargs):\n",
    "        call =\",\".join(\n",
    "        [str(a) for a in args]+[f\"{k}={v}\" for k,v in kwargs]\n",
    "        )\n",
    "        print(f\"{f.__name__}({call})=...\")\n",
    "        ret = f(*args,**kwargs)\n",
    "        print(f\"{f.__name__}({call})={ret}\")\n",
    "        return ret\n",
    "    inner.__name__=f.__name__\n",
    "    inner.__doc__=f.__doc__\n",
    "    inner.__module=f.__module__\n",
    "    return inner\n",
    "\n",
    "@trace\n",
    "def max(*args):\n",
    "    \"\"\"finds the largest argument.\"\"\"\n",
    "    ret=0\n",
    "    for x in args:\n",
    "        ret=ret if x<ret else x\n",
    "    return ret\n",
    "\n",
    "\n",
    "def foo():\n",
    "    max(-10,-1,-3)\n",
    "foo()\n",
    "print(max.__name__)"
   ]
  },
  {
   "cell_type": "markdown",
   "metadata": {},
   "source": [
    "let's use another function for function attributes"
   ]
  },
  {
   "cell_type": "code",
   "execution_count": 31,
   "metadata": {},
   "outputs": [
    {
     "name": "stdout",
     "output_type": "stream",
     "text": [
      "max(-10,-1,-3)=...\n",
      "max(-10,-1,-3)=0\n",
      "max\n"
     ]
    }
   ],
   "source": [
    "def update_wrapper(wrapped,wrapper):\n",
    "    for attr in[\"__name__\",\"__doc__\",\"__module__\"]:\n",
    "        setattr(wrapper,attr,getattr(wrapped,attr))\n",
    "    wrapper.__wrapped__=wrapped\n",
    "def trace(f):\n",
    "    if not DEBUG:\n",
    "        return f\n",
    "    def inner(*args, **kwargs):\n",
    "        call =\",\".join(\n",
    "        [str(a) for a in args]+[f\"{k}={v}\" for k,v in kwargs]\n",
    "        )\n",
    "        print(f\"{f.__name__}({call})=...\")\n",
    "        ret = f(*args,**kwargs)\n",
    "        print(f\"{f.__name__}({call})={ret}\")\n",
    "        return ret\n",
    "    update_wrapper(f,inner)\n",
    "    return inner\n",
    "@trace\n",
    "def max(*args):\n",
    "    \"\"\"finds the largest argument.\"\"\"\n",
    "    ret=0\n",
    "    for x in args:\n",
    "        ret=ret if x<ret else x\n",
    "    return ret\n",
    "def foo():\n",
    "    max(-10,-1,-3)\n",
    "foo()\n",
    "print(max.__name__)"
   ]
  },
  {
   "cell_type": "markdown",
   "metadata": {},
   "source": [
    "Now we use it as a decorator by using partial call. We need partioal call to rid of first argument"
   ]
  },
  {
   "cell_type": "code",
   "execution_count": 30,
   "metadata": {},
   "outputs": [
    {
     "name": "stdout",
     "output_type": "stream",
     "text": [
      "max(-10,-1,-3)=...\n",
      "max(-10,-1,-3)=0\n",
      "max\n"
     ]
    }
   ],
   "source": [
    "import functools\n",
    "DEBUG= True\n",
    "def update_wrapper(wrapped,wrapper):\n",
    "    for attr in[\"__name__\",\"__doc__\",\"__module__\"]:\n",
    "        setattr(wrapper,attr,getattr(wrapped,attr))\n",
    "    return wrapper\n",
    "def trace(f):\n",
    "    if not DEBUG:\n",
    "        return f\n",
    "    wraps=functools.partial(update_wrapper,f)\n",
    "    @wraps\n",
    "    def inner(*args, **kwargs):\n",
    "        call =\",\".join(\n",
    "        [str(a) for a in args]+[f\"{k}={v}\" for k,v in kwargs]\n",
    "        )\n",
    "        print(f\"{f.__name__}({call})=...\")\n",
    "        ret = f(*args,**kwargs)\n",
    "        print(f\"{f.__name__}({call})={ret}\")\n",
    "        return ret\n",
    "    update_wrapper(f,inner)\n",
    "    return inner\n",
    "@trace\n",
    "def max(*args):\n",
    "    \"\"\"finds the largest argument.\"\"\"\n",
    "    ret=0\n",
    "    for x in args:\n",
    "        ret=ret if x<ret else x\n",
    "    return ret\n",
    "def foo():\n",
    "    max(-10,-1,-3)\n",
    "foo()\n",
    "print(max.__name__)"
   ]
  },
  {
   "cell_type": "code",
   "execution_count": 35,
   "metadata": {},
   "outputs": [
    {
     "name": "stdout",
     "output_type": "stream",
     "text": [
      "max(-10,-1,-3)=...\n",
      "max(-10,-1,-3)=0\n",
      "max\n"
     ]
    }
   ],
   "source": [
    "#another way\n",
    "DEBUG= True\n",
    "def update_wrapper(wrapped,wrapper):\n",
    "    for attr in[\"__name__\",\"__doc__\",\"__module__\"]:\n",
    "        setattr(wrapper,attr,getattr(wrapped,attr))\n",
    "    return wrapper\n",
    "\n",
    "def wraps(f):\n",
    "    def deco(g):\n",
    "        update_wrapper(f,g)\n",
    "        return g\n",
    "    return deco\n",
    "\n",
    "def trace(f):\n",
    "    if not DEBUG:\n",
    "        return f\n",
    "    @wraps(f)\n",
    "    def inner(*args, **kwargs):\n",
    "        call =\",\".join(\n",
    "        [str(a) for a in args]+[f\"{k}={v}\" for k,v in kwargs]\n",
    "        )\n",
    "        print(f\"{f.__name__}({call})=...\")\n",
    "        ret = f(*args,**kwargs)\n",
    "        print(f\"{f.__name__}({call})={ret}\")\n",
    "        return ret\n",
    "    update_wrapper(f,inner)\n",
    "    return inner\n",
    "@trace\n",
    "def max(*args):\n",
    "    \"\"\"finds the largest argument.\"\"\"\n",
    "    ret=0\n",
    "    for x in args:\n",
    "        ret=ret if x<ret else x\n",
    "    return ret\n",
    "def foo():\n",
    "    max(-10,-1,-3)\n",
    "foo()\n",
    "print(max.__name__)"
   ]
  },
  {
   "cell_type": "markdown",
   "metadata": {},
   "source": [
    "Actually these decorators are implemented in functools"
   ]
  },
  {
   "cell_type": "code",
   "execution_count": 1,
   "metadata": {},
   "outputs": [
    {
     "name": "stdout",
     "output_type": "stream",
     "text": [
      "max(-10,-1,-3)=...\n",
      "max(-10,-1,-3)=0\n",
      "max\n"
     ]
    }
   ],
   "source": [
    "import functools\n",
    "DEBUG= True\n",
    "\n",
    "def trace(f):\n",
    "    if not DEBUG:\n",
    "        return f\n",
    "    @functools.wraps(f)\n",
    "    def inner(*args, **kwargs):\n",
    "        call =\",\".join(\n",
    "            [str(a) for a in args]+[f\"{k}={v}\" for k,v in kwargs]\n",
    "        )\n",
    "        print(f\"{f.__name__}({call})=...\")\n",
    "        ret = f(*args,**kwargs)\n",
    "        print(f\"{f.__name__}({call})={ret}\")\n",
    "        return ret\n",
    "    return inner\n",
    "@trace\n",
    "def max(*args):\n",
    "    \"\"\"finds the largest argument.\"\"\"\n",
    "    ret=0\n",
    "    for x in args:\n",
    "        ret=ret if x<ret else x\n",
    "    return ret\n",
    "def foo():\n",
    "    max(-10,-1,-3)\n",
    "foo()\n",
    "print(max.__name__)"
   ]
  },
  {
   "cell_type": "markdown",
   "metadata": {},
   "source": [
    "Better practice is to write debug information to stderr(stream that is used in case of errors)"
   ]
  },
  {
   "cell_type": "code",
   "execution_count": 4,
   "metadata": {},
   "outputs": [
    {
     "name": "stdout",
     "output_type": "stream",
     "text": [
      "max\n"
     ]
    },
    {
     "name": "stderr",
     "output_type": "stream",
     "text": [
      "max(-10,-1,-3)=...\n",
      "max(-10,-1,-3)=0\n"
     ]
    }
   ],
   "source": [
    "import functools\n",
    "import sys\n",
    "\n",
    "DEBUG= True\n",
    "\n",
    "def trace(stream=sys.stdout):\n",
    "    def decorator(f):\n",
    "        if not DEBUG:\n",
    "            return f\n",
    "        @functools.wraps(f)\n",
    "        def inner(*args, **kwargs):\n",
    "            call =\",\".join(\n",
    "                [str(a) for a in args]+[f\"{k}={v}\" for k,v in kwargs]\n",
    "            )\n",
    "            print(f\"{f.__name__}({call})=...\", file=stream)\n",
    "            ret = f(*args,**kwargs)\n",
    "            print(f\"{f.__name__}({call})={ret}\",file =stream)\n",
    "            return ret\n",
    "        return inner\n",
    "    return decorator\n",
    "\n",
    "@trace(sys.stderr)\n",
    "def max(*args):\n",
    "    \"\"\"finds the largest argument.\"\"\"\n",
    "    ret=0\n",
    "    for x in args:\n",
    "        ret=ret if x<ret else x\n",
    "    return ret\n",
    "def foo():\n",
    "    max(-10,-1,-3)\n",
    "foo()\n",
    "print(max.__name__)"
   ]
  },
  {
   "cell_type": "markdown",
   "metadata": {},
   "source": [
    "if we don't want use parameter every time, we can do this kind of magic: When we give to function stream, f is None and we return decorator trace agein with new stream."
   ]
  },
  {
   "cell_type": "code",
   "execution_count": 11,
   "metadata": {},
   "outputs": [
    {
     "name": "stdout",
     "output_type": "stream",
     "text": [
      "max\n"
     ]
    },
    {
     "name": "stderr",
     "output_type": "stream",
     "text": [
      "max(-10,-1,-3)=...\n",
      "max(-10,-1,-3)=0\n"
     ]
    }
   ],
   "source": [
    "import functools\n",
    "import sys\n",
    "\n",
    "DEBUG= True\n",
    "\n",
    "def trace(f=None,*,stream=sys.stdout):\n",
    "    if f is None:\n",
    "        return functools.partial(trace, stream=stream)\n",
    "    if not DEBUG:\n",
    "        return f\n",
    "    @functools.wraps(f)\n",
    "    def inner(*args, **kwargs):\n",
    "        call =\",\".join(\n",
    "             [str(a) for a in args]+[f\"{k}={v}\" for k,v in kwargs]\n",
    "        )\n",
    "        print(f\"{f.__name__}({call})=...\", file=stream)\n",
    "        ret = f(*args,**kwargs)\n",
    "        print(f\"{f.__name__}({call})={ret}\",file =stream)\n",
    "        return ret\n",
    "    return inner\n",
    "\n",
    "@trace(stream =sys.stderr)\n",
    "def max(*args):\n",
    "    \"\"\"finds the largest argument.\"\"\"\n",
    "    ret=0\n",
    "    for x in args:\n",
    "        ret=ret if x<ret else x\n",
    "    return ret\n",
    "def foo():\n",
    "    max(-10,-1,-3)\n",
    "foo()\n",
    "print(max.__name__)"
   ]
  },
  {
   "cell_type": "markdown",
   "metadata": {},
   "source": [
    "How limit function to be called only once?"
   ]
  },
  {
   "cell_type": "code",
   "execution_count": 16,
   "metadata": {},
   "outputs": [
    {
     "name": "stdout",
     "output_type": "stream",
     "text": [
      "initializing logger\n"
     ]
    }
   ],
   "source": [
    "def once(f):\n",
    "    called = False \n",
    "    def inner(*args,**kwargs):\n",
    "        nonlocal called\n",
    "        if not called:\n",
    "            called=True\n",
    "            res=f(*args,**kwargs)\n",
    "            assert res is None\n",
    "    return inner\n",
    "\n",
    "\n",
    "@once\n",
    "def init_logger():\n",
    "    \"\"\"Call this at most once\"\"\"\n",
    "    print(\"initializing logger\")\n",
    "\n",
    "\n",
    "def foo():\n",
    "    init_logger()\n",
    "    \n",
    "if __name__ == '__main__':\n",
    "    foo()\n",
    "    foo()"
   ]
  },
  {
   "cell_type": "markdown",
   "metadata": {},
   "source": [
    "When we need mark function as deprecated."
   ]
  },
  {
   "cell_type": "code",
   "execution_count": 22,
   "metadata": {},
   "outputs": [
    {
     "name": "stdout",
     "output_type": "stream",
     "text": [
      "initializing logger\n",
      "initializing logger\n"
     ]
    },
    {
     "name": "stderr",
     "output_type": "stream",
     "text": [
      "D:\\Tools\\anaconda\\lib\\site-packages\\ipykernel_launcher.py:6: DeprecationWarning: init_logger is deprecated\n",
      "  \n",
      "Don't use init_logger, use ... instead\n",
      "Don't use init_logger, use ... instead\n"
     ]
    }
   ],
   "source": [
    "import sys\n",
    "import warnings\n",
    "def deprecated(f):\n",
    "    def inner(*args,**kwargs):\n",
    "        warnings.warn(f\"{f.__name__} is deprecated\",\n",
    "                     category=DeprecationWarning)\n",
    "        print(f\"Don't use {f.__name__}, use ... instead\", file=sys.stderr)\n",
    "        return f(*args,**kwargs)\n",
    "    return inner\n",
    "\n",
    "\n",
    "@deprecated\n",
    "def init_logger():\n",
    "    \"\"\"Call this at most once\"\"\"\n",
    "    print(\"initializing logger\")\n",
    "\n",
    "\n",
    "def foo():\n",
    "    init_logger()\n",
    "    \n",
    "if __name__ == '__main__':\n",
    "    foo()\n",
    "    foo()"
   ]
  },
  {
   "cell_type": "markdown",
   "metadata": {},
   "source": [
    "For profiling code we also can use decorators. Also we add memoize decorator to cache values"
   ]
  },
  {
   "cell_type": "code",
   "execution_count": 25,
   "metadata": {},
   "outputs": [
    {
     "name": "stdout",
     "output_type": "stream",
     "text": [
      "28657\n",
      "43\n",
      "0.0010570000022198656\n"
     ]
    }
   ],
   "source": [
    "import time\n",
    "import functools\n",
    "def profile(f):\n",
    "    @functools.wraps(f)\n",
    "    def inner(*args,**kwargs):\n",
    "        start = time.perf_counter()\n",
    "        res=f(*args,**kwargs)\n",
    "        elapsed=time.perf_counter()-start\n",
    "        inner.__n_calls__+=1\n",
    "        inner.__total_time__+=elapsed\n",
    "        return res\n",
    "    inner.__n_calls__=0\n",
    "    inner.__total_time__=0\n",
    "    return inner\n",
    "\n",
    "def memoize(f):\n",
    "    cache ={}\n",
    "    @functools.wraps(f)\n",
    "    def inner(*args,**kwargs):\n",
    "        key=(args,frozenset(kwargs.items()))\n",
    "        if key not in cache:\n",
    "            cache[key]=f(*args,**kwargs)\n",
    "        return cache[key]\n",
    "    inner.__cache__=cache\n",
    "    return inner\n",
    "\n",
    "@profile #oder of decoratora is essential profile(memoize(profile(fib)))\n",
    "@memoize #can use functools.lru_cache(maxsize=None)\n",
    "def fib(n):\n",
    "    return 1 if n<=1 else fib(n-1)+ fib(n-2)\n",
    "\n",
    "if __name__== \"__main__\":\n",
    "    print(fib(22))\n",
    "    print(fib.__n_calls__)\n",
    "    print(fib.__total_time__)"
   ]
  },
  {
   "cell_type": "markdown",
   "metadata": {},
   "source": [
    "Decorator singledispatch. It allow us to do different inplementations for function."
   ]
  },
  {
   "cell_type": "code",
   "execution_count": 28,
   "metadata": {},
   "outputs": [
    {
     "name": "stdout",
     "output_type": "stream",
     "text": [
      "null\n",
      "92\n",
      "[92,null]\n"
     ]
    },
    {
     "ename": "AssertionError",
     "evalue": "json not supported for <class 'str'>",
     "output_type": "error",
     "traceback": [
      "\u001b[1;31m---------------------------------------------------------------------------\u001b[0m",
      "\u001b[1;31mAssertionError\u001b[0m                            Traceback (most recent call last)",
      "\u001b[1;32m<ipython-input-28-e7e54e33d14f>\u001b[0m in \u001b[0;36m<module>\u001b[1;34m\u001b[0m\n\u001b[0;32m     17\u001b[0m \u001b[0mprint\u001b[0m\u001b[1;33m(\u001b[0m\u001b[0mjson\u001b[0m\u001b[1;33m(\u001b[0m\u001b[1;36m92\u001b[0m\u001b[1;33m)\u001b[0m\u001b[1;33m)\u001b[0m\u001b[1;33m\u001b[0m\u001b[1;33m\u001b[0m\u001b[0m\n\u001b[0;32m     18\u001b[0m \u001b[0mprint\u001b[0m\u001b[1;33m(\u001b[0m\u001b[0mjson\u001b[0m\u001b[1;33m(\u001b[0m\u001b[1;33m[\u001b[0m\u001b[1;36m92\u001b[0m\u001b[1;33m,\u001b[0m\u001b[1;32mNone\u001b[0m\u001b[1;33m]\u001b[0m\u001b[1;33m)\u001b[0m\u001b[1;33m)\u001b[0m\u001b[1;33m\u001b[0m\u001b[1;33m\u001b[0m\u001b[0m\n\u001b[1;32m---> 19\u001b[1;33m \u001b[0mprint\u001b[0m\u001b[1;33m(\u001b[0m\u001b[0mjson\u001b[0m\u001b[1;33m(\u001b[0m\u001b[1;34m\"wefdfdgf\"\u001b[0m\u001b[1;33m)\u001b[0m\u001b[1;33m)\u001b[0m\u001b[1;33m\u001b[0m\u001b[1;33m\u001b[0m\u001b[0m\n\u001b[0m",
      "\u001b[1;32mD:\\Tools\\anaconda\\lib\\functools.py\u001b[0m in \u001b[0;36mwrapper\u001b[1;34m(*args, **kw)\u001b[0m\n\u001b[0;32m    822\u001b[0m                             '1 positional argument')\n\u001b[0;32m    823\u001b[0m \u001b[1;33m\u001b[0m\u001b[0m\n\u001b[1;32m--> 824\u001b[1;33m         \u001b[1;32mreturn\u001b[0m \u001b[0mdispatch\u001b[0m\u001b[1;33m(\u001b[0m\u001b[0margs\u001b[0m\u001b[1;33m[\u001b[0m\u001b[1;36m0\u001b[0m\u001b[1;33m]\u001b[0m\u001b[1;33m.\u001b[0m\u001b[0m__class__\u001b[0m\u001b[1;33m)\u001b[0m\u001b[1;33m(\u001b[0m\u001b[1;33m*\u001b[0m\u001b[0margs\u001b[0m\u001b[1;33m,\u001b[0m \u001b[1;33m**\u001b[0m\u001b[0mkw\u001b[0m\u001b[1;33m)\u001b[0m\u001b[1;33m\u001b[0m\u001b[1;33m\u001b[0m\u001b[0m\n\u001b[0m\u001b[0;32m    825\u001b[0m \u001b[1;33m\u001b[0m\u001b[0m\n\u001b[0;32m    826\u001b[0m     \u001b[0mfuncname\u001b[0m \u001b[1;33m=\u001b[0m \u001b[0mgetattr\u001b[0m\u001b[1;33m(\u001b[0m\u001b[0mfunc\u001b[0m\u001b[1;33m,\u001b[0m \u001b[1;34m'__name__'\u001b[0m\u001b[1;33m,\u001b[0m \u001b[1;34m'singledispatch function'\u001b[0m\u001b[1;33m)\u001b[0m\u001b[1;33m\u001b[0m\u001b[1;33m\u001b[0m\u001b[0m\n",
      "\u001b[1;32m<ipython-input-28-e7e54e33d14f>\u001b[0m in \u001b[0;36mjson\u001b[1;34m(x)\u001b[0m\n\u001b[0;32m      1\u001b[0m \u001b[1;33m@\u001b[0m\u001b[0mfunctools\u001b[0m\u001b[1;33m.\u001b[0m\u001b[0msingledispatch\u001b[0m\u001b[1;33m\u001b[0m\u001b[1;33m\u001b[0m\u001b[0m\n\u001b[0;32m      2\u001b[0m \u001b[1;32mdef\u001b[0m \u001b[0mjson\u001b[0m\u001b[1;33m(\u001b[0m\u001b[0mx\u001b[0m\u001b[1;33m)\u001b[0m\u001b[1;33m:\u001b[0m\u001b[1;33m\u001b[0m\u001b[1;33m\u001b[0m\u001b[0m\n\u001b[1;32m----> 3\u001b[1;33m     \u001b[1;32massert\u001b[0m \u001b[1;32mFalse\u001b[0m\u001b[1;33m,\u001b[0m \u001b[1;34mf\"json not supported for {type(x)}\"\u001b[0m\u001b[1;33m\u001b[0m\u001b[1;33m\u001b[0m\u001b[0m\n\u001b[0m\u001b[0;32m      4\u001b[0m \u001b[1;33m\u001b[0m\u001b[0m\n\u001b[0;32m      5\u001b[0m \u001b[1;33m@\u001b[0m\u001b[0mjson\u001b[0m\u001b[1;33m.\u001b[0m\u001b[0mregister\u001b[0m\u001b[1;33m(\u001b[0m\u001b[0mtype\u001b[0m\u001b[1;33m(\u001b[0m\u001b[1;32mNone\u001b[0m\u001b[1;33m)\u001b[0m\u001b[1;33m)\u001b[0m\u001b[1;33m\u001b[0m\u001b[1;33m\u001b[0m\u001b[0m\n",
      "\u001b[1;31mAssertionError\u001b[0m: json not supported for <class 'str'>"
     ]
    }
   ],
   "source": [
    "@functools.singledispatch\n",
    "def json(x):\n",
    "    assert False, f\"json not supported for {type(x)}\"\n",
    "\n",
    "@json.register(type(None))\n",
    "def _(x):\n",
    "    return \"null\"\n",
    "@json.register(int)\n",
    "def _(x):\n",
    "    return str(x)\n",
    "@json.register(list)\n",
    "def _(xs):\n",
    "    contents = \",\".join(json(x) for x in xs)\n",
    "    return f\"[{contents}]\"\n",
    "\n",
    "print(json(None))\n",
    "print(json(92))\n",
    "print(json([92,None]))\n",
    "print(json(\"wefdfdgf\"))"
   ]
  },
  {
   "cell_type": "markdown",
   "metadata": {},
   "source": [
    "In functools we have another function reduce, which works like left fold in ocaml"
   ]
  },
  {
   "cell_type": "code",
   "execution_count": 31,
   "metadata": {},
   "outputs": [
    {
     "name": "stdout",
     "output_type": "stream",
     "text": [
      "initial,a,b,c\n",
      "initial_a_b_c\n",
      "initial_a_b_c\n"
     ]
    }
   ],
   "source": [
    "import functools\n",
    "res=functools.reduce(lambda x,y:x+\",\"+y, [\"a\",\"b\",\"c\"], \"initial\") \n",
    "print(res)\n",
    "def f(x ,y):\n",
    "    return x +\"_\"+y\n",
    "res=functools.reduce(f, [\"a\",\"b\",\"c\"], \"initial\") #f(f(f(\"initial\",\"a\"),\"b\"),\"c\")\n",
    "print(res)\n",
    "print(f(f(f(\"initial\",\"a\"),\"b\"),\"c\"))"
   ]
  },
  {
   "cell_type": "code",
   "execution_count": null,
   "metadata": {},
   "outputs": [],
   "source": []
  }
 ],
 "metadata": {
  "kernelspec": {
   "display_name": "Python 3",
   "language": "python",
   "name": "python3"
  },
  "language_info": {
   "codemirror_mode": {
    "name": "ipython",
    "version": 3
   },
   "file_extension": ".py",
   "mimetype": "text/x-python",
   "name": "python",
   "nbconvert_exporter": "python",
   "pygments_lexer": "ipython3",
   "version": "3.7.1"
  }
 },
 "nbformat": 4,
 "nbformat_minor": 2
}
