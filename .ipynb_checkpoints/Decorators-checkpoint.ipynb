{
 "cells": [
  {
   "cell_type": "markdown",
   "metadata": {},
   "source": [
    "Sometimes we need to print something< for exmple arguments for debugging"
   ]
  },
  {
   "cell_type": "code",
   "execution_count": 18,
   "metadata": {},
   "outputs": [
    {
     "name": "stdout",
     "output_type": "stream",
     "text": [
      "max(-10, -1, -3)=...\n",
      "max(-10, -1, -3)=0\n",
      "max\n"
     ]
    }
   ],
   "source": [
    "def max(*args):\n",
    "    \"\"\"finds the largest argument.\"\"\"\n",
    "    print(f\"max{args}=...\")\n",
    "    ret=0\n",
    "    for x in args:\n",
    "        ret=ret if x<ret else x\n",
    "    print(f\"max{args}={ret}\")\n",
    "    return ret\n",
    "def foo():\n",
    "    max(-10,-1,-3)\n",
    "foo()\n"
   ]
  },
  {
   "cell_type": "markdown",
   "metadata": {},
   "source": [
    "we can define high level function, that implements the same mechanism for each function"
   ]
  },
  {
   "cell_type": "code",
   "execution_count": 19,
   "metadata": {},
   "outputs": [
    {
     "name": "stdout",
     "output_type": "stream",
     "text": [
      "max(-10,-1,-3)=...\n",
      "max(-10,-1,-3)=0\n",
      "inner\n"
     ]
    }
   ],
   "source": [
    "def trace(f):\n",
    "    def inner(*args, **kwargs):\n",
    "        call =\",\".join(\n",
    "        [str(a) for a in args]+[f\"{k}={v}\" for k,v in kwargs]\n",
    "        )\n",
    "        print(f\"{f.__name__}({call})=...\")\n",
    "        ret = f(*args,**kwargs)\n",
    "        print(f\"{f.__name__}({call})={ret}\")\n",
    "        return ret\n",
    "    return inner\n",
    "\n",
    "def max(*args):\n",
    "    \"\"\"finds the largest argument.\"\"\"\n",
    "    ret=0\n",
    "    for x in args:\n",
    "        ret=ret if x<ret else x\n",
    "    return ret\n",
    "\n",
    "max=trace(max)\n",
    "def foo():\n",
    "    max(-10,-1,-3)\n",
    "foo()\n",
    "print(max.__name__)"
   ]
  },
  {
   "cell_type": "markdown",
   "metadata": {},
   "source": [
    "It's possible not to overwrite function implicitly. We can just use decorator @trace. But we still need to implement trace function!\n",
    "Also it's a good idea to add DEBUG flag, which allow us to choose behavior"
   ]
  },
  {
   "cell_type": "code",
   "execution_count": 20,
   "metadata": {},
   "outputs": [
    {
     "name": "stdout",
     "output_type": "stream",
     "text": [
      "max(-10,-1,-3)=...\n",
      "max(-10,-1,-3)=0\n",
      "max\n"
     ]
    }
   ],
   "source": [
    "DEBUG = True\n",
    "\n",
    "def trace(f):\n",
    "    if not DEBUG:\n",
    "        return f\n",
    "    def inner(*args, **kwargs):\n",
    "        call =\",\".join(\n",
    "        [str(a) for a in args]+[f\"{k}={v}\" for k,v in kwargs]\n",
    "        )\n",
    "        print(f\"{f.__name__}({call})=...\")\n",
    "        ret = f(*args,**kwargs)\n",
    "        print(f\"{f.__name__}({call})={ret}\")\n",
    "        return ret\n",
    "    inner.__name__=f.__name__\n",
    "    inner.__doc__=f.__doc__\n",
    "    inner.__module=f.__module__\n",
    "    return inner\n",
    "\n",
    "@trace\n",
    "def max(*args):\n",
    "    \"\"\"finds the largest argument.\"\"\"\n",
    "    ret=0\n",
    "    for x in args:\n",
    "        ret=ret if x<ret else x\n",
    "    return ret\n",
    "\n",
    "\n",
    "def foo():\n",
    "    max(-10,-1,-3)\n",
    "foo()\n",
    "print(max.__name__)"
   ]
  },
  {
   "cell_type": "markdown",
   "metadata": {},
   "source": [
    "let's use another function for function attributes"
   ]
  },
  {
   "cell_type": "code",
   "execution_count": 31,
   "metadata": {},
   "outputs": [
    {
     "name": "stdout",
     "output_type": "stream",
     "text": [
      "max(-10,-1,-3)=...\n",
      "max(-10,-1,-3)=0\n",
      "max\n"
     ]
    }
   ],
   "source": [
    "def update_wrapper(wrapped,wrapper):\n",
    "    for attr in[\"__name__\",\"__doc__\",\"__module__\"]:\n",
    "        setattr(wrapper,attr,getattr(wrapped,attr))\n",
    "    wrapper.__wrapped__=wrapped\n",
    "def trace(f):\n",
    "    if not DEBUG:\n",
    "        return f\n",
    "    def inner(*args, **kwargs):\n",
    "        call =\",\".join(\n",
    "        [str(a) for a in args]+[f\"{k}={v}\" for k,v in kwargs]\n",
    "        )\n",
    "        print(f\"{f.__name__}({call})=...\")\n",
    "        ret = f(*args,**kwargs)\n",
    "        print(f\"{f.__name__}({call})={ret}\")\n",
    "        return ret\n",
    "    update_wrapper(f,inner)\n",
    "    return inner\n",
    "@trace\n",
    "def max(*args):\n",
    "    \"\"\"finds the largest argument.\"\"\"\n",
    "    ret=0\n",
    "    for x in args:\n",
    "        ret=ret if x<ret else x\n",
    "    return ret\n",
    "def foo():\n",
    "    max(-10,-1,-3)\n",
    "foo()\n",
    "print(max.__name__)"
   ]
  },
  {
   "cell_type": "markdown",
   "metadata": {},
   "source": [
    "Now we use it as a decorator by using partial call. We need partioal call to rid of first argument"
   ]
  },
  {
   "cell_type": "code",
   "execution_count": 30,
   "metadata": {},
   "outputs": [
    {
     "name": "stdout",
     "output_type": "stream",
     "text": [
      "max(-10,-1,-3)=...\n",
      "max(-10,-1,-3)=0\n",
      "max\n"
     ]
    }
   ],
   "source": [
    "import functools\n",
    "DEBUG= True\n",
    "def update_wrapper(wrapped,wrapper):\n",
    "    for attr in[\"__name__\",\"__doc__\",\"__module__\"]:\n",
    "        setattr(wrapper,attr,getattr(wrapped,attr))\n",
    "    return wrapper\n",
    "def trace(f):\n",
    "    if not DEBUG:\n",
    "        return f\n",
    "    wraps=functools.partial(update_wrapper,f)\n",
    "    @wraps\n",
    "    def inner(*args, **kwargs):\n",
    "        call =\",\".join(\n",
    "        [str(a) for a in args]+[f\"{k}={v}\" for k,v in kwargs]\n",
    "        )\n",
    "        print(f\"{f.__name__}({call})=...\")\n",
    "        ret = f(*args,**kwargs)\n",
    "        print(f\"{f.__name__}({call})={ret}\")\n",
    "        return ret\n",
    "    update_wrapper(f,inner)\n",
    "    return inner\n",
    "@trace\n",
    "def max(*args):\n",
    "    \"\"\"finds the largest argument.\"\"\"\n",
    "    ret=0\n",
    "    for x in args:\n",
    "        ret=ret if x<ret else x\n",
    "    return ret\n",
    "def foo():\n",
    "    max(-10,-1,-3)\n",
    "foo()\n",
    "print(max.__name__)"
   ]
  },
  {
   "cell_type": "code",
   "execution_count": 35,
   "metadata": {},
   "outputs": [
    {
     "name": "stdout",
     "output_type": "stream",
     "text": [
      "max(-10,-1,-3)=...\n",
      "max(-10,-1,-3)=0\n",
      "max\n"
     ]
    }
   ],
   "source": [
    "#another way\n",
    "DEBUG= True\n",
    "def update_wrapper(wrapped,wrapper):\n",
    "    for attr in[\"__name__\",\"__doc__\",\"__module__\"]:\n",
    "        setattr(wrapper,attr,getattr(wrapped,attr))\n",
    "    return wrapper\n",
    "\n",
    "def wraps(f):\n",
    "    def deco(g):\n",
    "        update_wrapper(f,g)\n",
    "        return g\n",
    "    return deco\n",
    "\n",
    "def trace(f):\n",
    "    if not DEBUG:\n",
    "        return f\n",
    "    @wraps(f)\n",
    "    def inner(*args, **kwargs):\n",
    "        call =\",\".join(\n",
    "        [str(a) for a in args]+[f\"{k}={v}\" for k,v in kwargs]\n",
    "        )\n",
    "        print(f\"{f.__name__}({call})=...\")\n",
    "        ret = f(*args,**kwargs)\n",
    "        print(f\"{f.__name__}({call})={ret}\")\n",
    "        return ret\n",
    "    update_wrapper(f,inner)\n",
    "    return inner\n",
    "@trace\n",
    "def max(*args):\n",
    "    \"\"\"finds the largest argument.\"\"\"\n",
    "    ret=0\n",
    "    for x in args:\n",
    "        ret=ret if x<ret else x\n",
    "    return ret\n",
    "def foo():\n",
    "    max(-10,-1,-3)\n",
    "foo()\n",
    "print(max.__name__)"
   ]
  },
  {
   "cell_type": "markdown",
   "metadata": {},
   "source": [
    "Actually these decorators are implemented in functools"
   ]
  },
  {
   "cell_type": "code",
   "execution_count": 37,
   "metadata": {},
   "outputs": [
    {
     "name": "stdout",
     "output_type": "stream",
     "text": [
      "max(-10,-1,-3)=...\n",
      "max(-10,-1,-3)=0\n",
      "max\n"
     ]
    }
   ],
   "source": [
    "import functools\n",
    "DEBUG= True\n",
    "\n",
    "def trace(f):\n",
    "    if not DEBUG:\n",
    "        return f\n",
    "    @functools.wraps(f)\n",
    "    def inner(*args, **kwargs):\n",
    "        call =\",\".join(\n",
    "        [str(a) for a in args]+[f\"{k}={v}\" for k,v in kwargs]\n",
    "        )\n",
    "        print(f\"{f.__name__}({call})=...\")\n",
    "        ret = f(*args,**kwargs)\n",
    "        print(f\"{f.__name__}({call})={ret}\")\n",
    "        return ret\n",
    "    update_wrapper(f,inner)\n",
    "    return inner\n",
    "@trace\n",
    "def max(*args):\n",
    "    \"\"\"finds the largest argument.\"\"\"\n",
    "    ret=0\n",
    "    for x in args:\n",
    "        ret=ret if x<ret else x\n",
    "    return ret\n",
    "def foo():\n",
    "    max(-10,-1,-3)\n",
    "foo()\n",
    "print(max.__name__)"
   ]
  },
  {
   "cell_type": "code",
   "execution_count": null,
   "metadata": {},
   "outputs": [],
   "source": []
  }
 ],
 "metadata": {
  "kernelspec": {
   "display_name": "Python 3",
   "language": "python",
   "name": "python3"
  },
  "language_info": {
   "codemirror_mode": {
    "name": "ipython",
    "version": 3
   },
   "file_extension": ".py",
   "mimetype": "text/x-python",
   "name": "python",
   "nbconvert_exporter": "python",
   "pygments_lexer": "ipython3",
   "version": "3.7.1"
  }
 },
 "nbformat": 4,
 "nbformat_minor": 2
}
